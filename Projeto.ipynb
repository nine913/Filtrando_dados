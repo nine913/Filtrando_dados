{
 "cells": [
  {
   "cell_type": "code",
   "execution_count": null,
   "metadata": {},
   "outputs": [],
   "source": [
    "import pandas as pd\n",
    "\n",
    "dados = r'Dados.xlsx'\n",
    "\n",
    "df = pd.read_excel(dados)\n",
    "\n",
    "filtro = (df['Idade'] > 30) & (df['Salário'] > 6000)\n",
    "\n",
    "dados_filtrados = df.loc[filtro, ['Nome', 'Cidade', 'Salário']]\n",
    "\n",
    "dados_filtrados"
   ]
  }
 ],
 "metadata": {
  "kernelspec": {
   "display_name": "Python 3",
   "language": "python",
   "name": "python3"
  },
  "language_info": {
   "name": "python",
   "version": "3.12.7"
  }
 },
 "nbformat": 4,
 "nbformat_minor": 2
}
